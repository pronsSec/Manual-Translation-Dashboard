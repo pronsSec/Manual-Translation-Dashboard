{
  "nbformat": 4,
  "nbformat_minor": 0,
  "metadata": {
    "colab": {
      "name": "Manual_Translation_Dashboard.ipynb",
      "private_outputs": true,
      "provenance": [],
      "collapsed_sections": [],
      "authorship_tag": "ABX9TyMswvHxlHq4BX1YfdMq/34A",
      "include_colab_link": true
    },
    "kernelspec": {
      "name": "python3",
      "display_name": "Python 3"
    },
    "language_info": {
      "name": "python"
    }
  },
  "cells": [
    {
      "cell_type": "markdown",
      "metadata": {
        "id": "view-in-github",
        "colab_type": "text"
      },
      "source": [
        "<a href=\"https://colab.research.google.com/github/pronsSec/Manual-Translation-Dashboard/blob/main/Manual_Translation_Dashboard.ipynb\" target=\"_parent\"><img src=\"https://colab.research.google.com/assets/colab-badge.svg\" alt=\"Open In Colab\"/></a>"
      ]
    },
    {
      "cell_type": "markdown",
      "source": [
        "# Manual Translation Dashboard for Hugging Face Accelerated Inference API\n",
        "##### by Been\n",
        "---\n",
        "This dashboard conducts small paragraph translations for multiple languages. More will be added as time goes on. Currently the focus will be English to and from Russian, Balkan, and other Eastern European languages. \n",
        "\n",
        "---\n",
        "This makes use of the very powerful Hugging Face Accelerated Inference API. You will only need to update your own API key after paying for the 9/month tier. Update your key in the first cell.   \n",
        "\n",
        "---\n",
        "\n",
        "This model avoids the awkwardness of Google Translate, and has the best Romanian translation that I have found. \n",
        "\n",
        "---\n",
        "\n",
        "\n",
        "\n",
        "\n",
        "\n",
        "\n",
        "### To avoid Google entirely this entire notebook can be downloaded as .ipynb and run locally using Jupyter. \n",
        "---\n",
        "\n",
        "---\n",
        "This makes use of the very powerful Hugging Face Accelerated Inference API. You will only need to update your own API key after paying for the 9/month tier. Update your key in the first cell.   \n",
        "\n",
        "---\n",
        "\n",
        "---\n",
        "If it says \"----- is currently loading', 'estimated_time': --\" just wait the amount of time and try again. "
      ],
      "metadata": {
        "id": "N-XG51r069vH"
      }
    },
    {
      "cell_type": "markdown",
      "source": [
        "---"
      ],
      "metadata": {
        "id": "Nbf8kGn1-p_m"
      }
    },
    {
      "cell_type": "code",
      "source": [
        "import os\n",
        "os.environ['API_TOKEN'] = '' #Place API key between these two '' directly to the left. \n"
      ],
      "metadata": {
        "id": "lH_AIwXFqgZL"
      },
      "execution_count": null,
      "outputs": []
    },
    {
      "cell_type": "markdown",
      "source": [
        "---"
      ],
      "metadata": {
        "id": "aMxbUWpJ-ovL"
      }
    },
    {
      "cell_type": "code",
      "source": [
        "#@title  English to Russian{ display-mode: \"form\" }\n",
        "import requests\n",
        "\n",
        "API_URL = \"https://api-inference.huggingface.co/models/Helsinki-NLP/opus-mt-en-ru\"\n",
        "headers = {\"Authorization\": \"Bearer \" + str(os.getenv('API_TOKEN'))}\n",
        "\n",
        "def query(payload):\n",
        "\tresponse = requests.post(API_URL, headers=headers, json=payload)\n",
        "\treturn response.json()\n",
        "\n",
        "English_text = 'What is this in Russian' #@param {'type': 'string'}\t\n",
        "output = query({\n",
        "\t\"inputs\": English_text,\n",
        "  \"wait_for_model\": 'True',\n",
        "})\n",
        "\n",
        "cleaner = str(output)\n",
        "print('-'*65) \n",
        "print(cleaner[23:-3])"
      ],
      "metadata": {
        "id": "Y6ZRj0m7576p"
      },
      "execution_count": null,
      "outputs": []
    },
    {
      "cell_type": "markdown",
      "source": [
        "---"
      ],
      "metadata": {
        "id": "gH2DjJ1b-Wdq"
      }
    },
    {
      "cell_type": "code",
      "source": [
        "#@title Russian to English { display-mode: \"form\" }\n",
        "\n",
        "import requests\n",
        "\n",
        "API_URL = \"https://api-inference.huggingface.co/models/Helsinki-NLP/opus-mt-ru-en\"\n",
        "headers = {\"Authorization\": \"Bearer \" + str(os.getenv('API_TOKEN'))}\n",
        "\n",
        "def query(payload):\n",
        "\tresponse = requests.post(API_URL, headers=headers, json=payload)\n",
        "\treturn response.json()\n",
        "\n",
        "Russian_Text = '\\u0427\\u0442\\u043E \\u044D\\u0442\\u043E \\u043D\\u0430 \\u0440\\u0443\\u0441\\u0441\\u043A\\u043E\\u043C' #@param {type: \"string\"}\n",
        "output = query({\n",
        "\t\"inputs\": Russian_Text,\n",
        "  \"wait_for_model\": 'True',\n",
        "})\n",
        "\n",
        "cleaner = str(output)\n",
        "print('-'*65) \n",
        "print(cleaner[23:-3])"
      ],
      "metadata": {
        "id": "ONovVw9hs4os"
      },
      "execution_count": null,
      "outputs": []
    },
    {
      "cell_type": "markdown",
      "source": [
        "---"
      ],
      "metadata": {
        "id": "wucKQ0y2-XsL"
      }
    },
    {
      "cell_type": "code",
      "source": [
        "#@title English to Romanian { display-mode: \"form\" }\n",
        "\n",
        "import requests\n",
        "\n",
        "API_URL = \"https://api-inference.huggingface.co/models/Helsinki-NLP/opus-mt-tc-big-en-ro\"\n",
        "headers = {\"Authorization\": \"Bearer \" + str(os.getenv('API_TOKEN'))}\n",
        "\n",
        "def query(payload):\n",
        "\tresponse = requests.post(API_URL, headers=headers, json=payload)\n",
        "\treturn response.json()\n",
        "\n",
        "\n",
        "English_Text = 'What is this in Romanian.' #@param {type: \"string\"}\n",
        "output = query({\n",
        "\t\"inputs\": English_Text,\n",
        "  \"wait_for_model\": 'True',\n",
        "})\n",
        "\n",
        "cleaner = str(output)\n",
        "print('-'*65) \n",
        "print(cleaner[23:-3])"
      ],
      "metadata": {
        "id": "eADN3DSb2s9B"
      },
      "execution_count": null,
      "outputs": []
    },
    {
      "cell_type": "markdown",
      "source": [
        "---"
      ],
      "metadata": {
        "id": "WZfDCjPU-YqG"
      }
    },
    {
      "cell_type": "code",
      "source": [
        "#@title Romanian To English { display-mode: \"form\" }\n",
        "\n",
        "import requests\n",
        "\n",
        "API_URL = \"https://api-inference.huggingface.co/models/Helsinki-NLP/opus-mt-roa-en\"\n",
        "headers = {\"Authorization\": \"Bearer \" + str(os.getenv('API_TOKEN'))}\n",
        "\n",
        "def query(payload):\n",
        "\tresponse = requests.post(API_URL, headers=headers, json=payload)\n",
        "\treturn response.json()\n",
        "Romanian_Text = 'Ce este aceasta \\xEEn limba rom\\xE2n\\u0103.' #@param {type: \"string\"}\t\n",
        "output = query({\n",
        "\t\"inputs\": Romanian_Text,\n",
        "  \"wait_for_model\": 'True',\n",
        "})\n",
        "\n",
        "cleaner = str(output)\n",
        "print('-'*65) \n",
        "print(cleaner[23:-3])"
      ],
      "metadata": {
        "id": "4I_000JMvMDQ"
      },
      "execution_count": null,
      "outputs": []
    },
    {
      "cell_type": "markdown",
      "source": [
        "---\n",
        "---\n",
        "---\n",
        "\n",
        "\n",
        "@InProceedings{TiedemannThottingal:EAMT2020,\n",
        "  author = {J{\\\"o}rg Tiedemann and Santhosh Thottingal},\n",
        "  title = {{OPUS-MT} — {B}uilding open translation services for the {W}orld},\n",
        "  booktitle = {Proceedings of the 22nd Annual Conferenec of the European Association for Machine Translation (EAMT)},\n",
        "  year = {2020},\n",
        "  address = {Lisbon, Portugal}\n",
        " }"
      ],
      "metadata": {
        "id": "APnbXMs2-Acn"
      }
    }
  ]
}
